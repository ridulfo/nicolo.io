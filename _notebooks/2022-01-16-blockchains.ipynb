{
 "cells": [
  {
   "attachments": {},
   "cell_type": "markdown",
   "id": "6cd09e69-1dbf-46a6-a109-5bc4d9449a09",
   "metadata": {},
   "source": [
    "# Building a Blockchain from scratch\n",
    "\n",
    "What will be covered\n",
    "\n",
    "- My goals\n",
    "- What is a blockchain\n",
    "- Building a blockchain from scratch\n",
    "- My implementation\n",
    "- Future development\n",
    "- Appendix A\n",
    "\n",
    "## Goals\n",
    "\n",
    "My goal with this post and the code I have and will be writing is to get a solid understanding of how blockchains and crypto currencies work from the ground up. There is no better way to learn something that by doing it yourself.\n",
    "Firstly, I will implement a blockchain (this post), thereafter I will use the blockchain to build a distributed ledger and finally I shall build a crypto currency.\n",
    "\n",
    "## What is a blockchain\n",
    "\n",
    "A blockchain is essentially just a linked list with extra features. These features make it hard to tamper with the data and easy to check the validity of the data. People use blockchains for many things. Most popularly for crypto currencies. Since it is anonymous individuals that manage the creation and validation of transactions. One wouldn't want someone to go back and change their account balance in order to make them rich. The currency is safe for as long as most individuals are honest.\n",
    "\n",
    "## Implementing a Blockchain\n",
    "We will now implement a blockchain from scratch. To illustrate this, we will first implement a simple linked list and then build upon it until it becomes a blockchain.\n",
    "### Linked List\n",
    "As the name suggests a linked list is a list where the data is linked together. An array on the other hand is data in memory stored in adjacent memory addresses.\n",
    "Note that the usual term for the object that stores the data in a linked list is `node`, however in blockchains the term is `block`.\n",
    "\n",
    "Normally one would implement a singly linked list like this:"
   ]
  },
  {
   "cell_type": "code",
   "execution_count": 1,
   "id": "09d485d9-0250-4ca0-ad13-313781244d22",
   "metadata": {},
   "outputs": [],
   "source": [
    "class Node:\n",
    "    next_node = None\n",
    "    def __init__(self,\n",
    "                data:str=None):\n",
    "        self.data = data\n",
    "\n",
    "class LinkedList:\n",
    "    head=None\n",
    "    def add(self, data:str):\n",
    "        if self.head:\n",
    "            current_node = self.head\n",
    "            while current_node.next_node:\n",
    "                current_node = current_node.next_node\n",
    "            current_node.next_node = Node(data)\n",
    "        else:\n",
    "            # The first node gets an empty string as prevous hash because there are not previous nodes\n",
    "            self.head = Node(data)"
   ]
  },
  {
   "cell_type": "markdown",
   "id": "5a827d54-4063-4494-8fd6-dca7d9060818",
   "metadata": {},
   "source": [
    "The problem with a simple linked list is that you can change the data anywhere in the list. Like so:"
   ]
  },
  {
   "cell_type": "code",
   "execution_count": 2,
   "id": "cc755d4f-0dba-4fe6-be11-9576e26fff12",
   "metadata": {},
   "outputs": [],
   "source": [
    "linked_list = LinkedList()\n",
    "for n in range(10):\n",
    "    linked_list.add(str(n))\n",
    "\n",
    "# Change the value of the third node\n",
    "linked_list.head.next_node.next_node.data = 12897"
   ]
  },
  {
   "cell_type": "markdown",
   "id": "16bc58b4-32fc-4e7e-8439-9c926e0d2e2e",
   "metadata": {},
   "source": [
    "### Adding the hash of the previous block\n",
    "We do not want anyone to change the data, so we add the hash of the previous node to the next node's fields. Now to check if the data in a node has been tampered with, we just recompute the hash of the previous node and compare with the current nodes \"hash of the previous block\".\n",
    "\n",
    "A quick refresher about hashes. A hash is the output of a hash function. Sometimes referred to as a fingerprint of some piece of data. A hash function is a so called \"one way\" function. You can easily compute the hash of a piece of data, but it is very hard to go from the hash to the original piece of data. The only way is to use \"brute-force\" and try all different combinations of inputs.  If the original piece of data is longer than the hash, it is impossible since information has been lost. As shown in the example below, just a small change in the input creates a completely different output. Despite this, the function is non probabilistic, which means that a input will **always** have the same output."
   ]
  },
  {
   "cell_type": "code",
   "execution_count": 3,
   "id": "53180e40-2c51-434f-a333-d864c3917e64",
   "metadata": {},
   "outputs": [
    {
     "name": "stdout",
     "output_type": "stream",
     "text": [
      "a591a6d40bf420404a011733cfb7b190d62c65bf0bcda32b57b277d9ad9f146e\n",
      "7f83b1657ff1fc53b92dc18148a1d65dfc2d4b1fa3d677284addd200126d9069\n"
     ]
    }
   ],
   "source": [
    "from hashlib import sha256\n",
    "def hasher(input: str):\n",
    "    return sha256(input.encode()).hexdigest()\n",
    "print(hasher(\"Hello World\"))\n",
    "print(hasher(\"Hello World!\"))"
   ]
  },
  {
   "cell_type": "markdown",
   "id": "f83a302e-5439-466d-8797-c78ae113e0d4",
   "metadata": {},
   "source": [
    "To add the hash of the previous block we add the field `previous_node_hash` to the node."
   ]
  },
  {
   "cell_type": "code",
   "execution_count": 4,
   "id": "cb3bbcb0-e9f7-4e0f-b31d-5ebebb9ab960",
   "metadata": {},
   "outputs": [],
   "source": [
    "class Node:\n",
    "    next_node = None\n",
    "    def __init__(self, previous_node_hash:str, data:str=None):\n",
    "        self.data = data\n",
    "        self.previous_node_hash = previous_node_hash\n",
    "        \n",
    "class LinkedList:\n",
    "    head=None\n",
    "    def add(self, data:str):\n",
    "        if self.head:\n",
    "            current_node = self.head\n",
    "            while current_node.next_node:\n",
    "                current_node = current_node.next_node\n",
    "                \n",
    "            current_node_hash = sha256(str(current_node.__dir__).encode()).hexdigest() # <-----\n",
    "            current_node.next_node = Node(current_node_hash, data)\n",
    "        else:\n",
    "            self.head = Node(\"\", data) "
   ]
  },
  {
   "cell_type": "markdown",
   "id": "ecf95272-4c58-40df-ba17-bfa911b8ad3f",
   "metadata": {},
   "source": [
    "A node now looks like this when printed"
   ]
  },
  {
   "cell_type": "code",
   "execution_count": 5,
   "id": "cc234c31-6e28-42f0-941e-a77648cfea6d",
   "metadata": {},
   "outputs": [
    {
     "name": "stdout",
     "output_type": "stream",
     "text": [
      "{'data': '1', 'previous_node_hash': '0e69ce586d540294b97a90e1f224ffd1af1d672007cea72221fc18955550051e', 'next_node': <__main__.Node object at 0x108c045e0>}\n"
     ]
    }
   ],
   "source": [
    "linked_list = LinkedList()\n",
    "for n in range(10):\n",
    "    linked_list.add(str(n))\n",
    "print(linked_list.head.next_node.__dict__)"
   ]
  },
  {
   "cell_type": "markdown",
   "id": "7405ec3a-757a-4fda-bb6e-52c9fa2b8d63",
   "metadata": {},
   "source": [
    "We now have officially created the most basic blockchain! Now, you can still change the value of `Node.data`. But that would make the next node's `Node.prevous_node_hash` incorrect. So, you would have to recompute the hash of the edited node and update the next node. However, now the hash in the following node does not match the one after that. You would have to change all the hashes until you arrive at the last node. In the case of crypto currencies, imagine that it takes monstrous amount of computation to add just a single node to the list and you start to realize why it is infeasible to edit the record. While you are changing the record and recomputing the whole chain, hundreds of thousands of computers are trying to add new nodes to the end of chain. You would never catch up.\n",
    "\n",
    "Bitcoin and PyChain split the information in the node (from now on referred to as block) into two sections: a header and a body. This is done in order to save space and computation. For a lot of operations, you do not need the body; you just need a hash of it in order to validate the data should you want to.\n",
    "\n",
    "Since PyChain is a general purpose blockchain, it can also discard some header fields that are present in bitcoin's header. For example: version, difficulty target and nonce. All of these are application specific and are important for bitcoin, but not to PyChain. Perhaps a field could be added to PyChain's header that could be used to store some information.\n",
    "\n",
    "### Implementing PyChain\n",
    "PyChain is extremely simple, let's implement part of it:\n",
    "#### Block\n",
    "A block is defined as follows:\n",
    "```\n",
    "======HEADER==========\n",
    "4 bytes    (I): block number       : 0:4\n",
    "32 bytes (32s): previous block hash: 4:36\n",
    "32 bytes (32s): block body hash    : 36:68\n",
    "8 bytes    (Q): block creation time: 68:76\n",
    "======END HEADER======\n",
    "======BODY============\n",
    "n bytes   (ns): block body         : 76:n\n",
    "======END BODY========\n",
    "```\n",
    "The index of the block in the chain, the previous block's hash, the hash of the body, the time when the block was created and the body. The header is of fixed size, always 76 bytes. However, the body has a variable size, but is easy to compute: `len(block)-76`.\n",
    "\n",
    "PyChain uses [struct](https://docs.python.org/3/library/struct.html) in order to encode and decode blocks.\n",
    "```python\n",
    "import struct # a library to create C-style structs\n",
    "\n",
    "def encode_block(n: int, prev_hash: bytes, time: int, body: str):\n",
    "    \"\"\"\n",
    "    Encode a block\n",
    "    Packs the block into an array of bytes\n",
    "    :param n: block number\n",
    "    :param prev_hash: previous block hash\n",
    "    :param time: time of block creation\n",
    "    :param body: block body\n",
    "    \"\"\"\n",
    "    block = struct.pack(f\"=I32s32sQ{len(body)}s\", n, prev_hash, sha256(body.encode()).digest(), time, body.encode())\n",
    "    return block\n",
    "\n",
    "def decode_block(block: bytes):\n",
    "    \"\"\"\n",
    "    Decode a block\n",
    "    Unpacks the block into an array of bytes\n",
    "    Note: the 76 in the format string is the length of the header\n",
    "    :param block: block to decode\n",
    "    \"\"\"\n",
    "    n, prev_hash, body_hash, time, body = struct.unpack(\n",
    "        f\"=I32s32sQ{len(block)-76}s\", block)\n",
    "    return n, prev_hash, body_hash, time, body.decode()\n",
    "```\n"
   ]
  },
  {
   "cell_type": "markdown",
   "id": "39330bc3-7aa0-48d5-906e-5fdc69255259",
   "metadata": {},
   "source": [
    "These functions basically just take several values and either packs or unpacks them in order to achieve a C-like space efficiency. Easy as that. If you are unfamiliar with this library this is how it works:"
   ]
  },
  {
   "cell_type": "code",
   "execution_count": 6,
   "id": "a0292b12-b431-4564-99ba-81f0268cef3a",
   "metadata": {},
   "outputs": [
    {
     "name": "stdout",
     "output_type": "stream",
     "text": [
      "b'{\\x00\\x00\\x00\\xc8\\x01\\x00\\x00'\n"
     ]
    }
   ],
   "source": [
    "import struct\n",
    "print(struct.pack(\"2I\", 123, 456))"
   ]
  },
  {
   "cell_type": "code",
   "execution_count": 7,
   "id": "68300539-e76c-4725-b7d9-354119c908a2",
   "metadata": {},
   "outputs": [
    {
     "name": "stdout",
     "output_type": "stream",
     "text": [
      "(123, 456)\n"
     ]
    }
   ],
   "source": [
    "print(struct.unpack(\"2I\", b'{\\x00\\x00\\x00\\xc8\\x01\\x00\\x00'))"
   ]
  },
  {
   "cell_type": "markdown",
   "id": "b646eb03-53b0-41ae-9c7e-fd77de8f16de",
   "metadata": {},
   "source": [
    "The format of a block is `I32s32sQ{len(body)}s`. Where `I`s are integers, `s`s are char arrays and `Q`s are unsigned longs. The number before the letter specifies how many of that type there are. Since the body has a variable number of `s`, it can be calculated using `{len(block)-76}s`.\n",
    "\n",
    "To add a block to the chain we simply: \n",
    "```python\n",
    "class BlockChain:\n",
    "    blocks=[]\n",
    "    HEADER_SLICE = slice(0, 76)\n",
    "\n",
    "    def add_block(self, body: str):\n",
    "        if len(blocks)==0: raise Exception(\"No genesis block\")\n",
    "        prev_header = self.blocks[-1][self.HEADER_SLICE] # Get the header of the previous block\n",
    "        prev_hash = sha256(prev_header).digest()\n",
    "        block = self.encode_block(\n",
    "            len(self.blocks), prev_hash, int(time()), body)\n",
    "        self.blocks.append(block)\n",
    "```\n",
    "### Performance of PyChain\n",
    "#### Speed\n",
    "Since adding a block to the chain simply requires you to compute one hash and pack the data it is extremely fast. It takes only 24ms to add 10K blocks to the chain. That is 2.352 microseconds per block. The reason distributed blockchains take so long (approx. 10min for bitcoin) is because consensus is needed. In bitcoins case, to add one block hundreds of thousands of computers need to find a value that results in the header's hash starting with n number of zeros. The number of calculations needed to do this are astronomical.\n",
    "#### Space\n",
    "A blockchain containing 10K blocks (with empty bodies) would be `10000 blocks x 76 bytes = 760 KB`. This is slightly better than bitcoin which has a header of 80 bytes."
   ]
  },
  {
   "cell_type": "markdown",
   "id": "f3f7d68b-deea-4d7a-8302-4a48d8978dd0",
   "metadata": {},
   "source": [
    "## Future development\n",
    "PyChain needs some unit tests and more chain validation features in order to move to the next step.\n",
    "\n",
    "\n",
    "The following step is to create a peer-to-peer protocol that would enable this blockchain implementation to be distributed. Of the top of my head, that would require the following abilities:\n",
    "- broadcast new block\n",
    "- get blocks (ask for blocks from peers)"
   ]
  },
  {
   "cell_type": "markdown",
   "id": "e040708c-1196-47fe-b7ee-f02d7c17b693",
   "metadata": {},
   "source": [
    "### Appendix A\n",
    "Fun fact! The [current version of PyChain](https://github.com/ridulfo/PyChain/tree/713a4a5a4e8055d1a127ff3d0c26f0b3efa737c7) can be minified and fit in 31 **unreadable** lines of code:"
   ]
  },
  {
   "cell_type": "code",
   "execution_count": 8,
   "id": "870cc8bb-71b4-4f28-952d-2e3e4c309c2b",
   "metadata": {},
   "outputs": [],
   "source": [
    "O, N, M, L, H, B, C = round, staticmethod, isinstance, range, print, slice, len\n",
    "from hashlib import sha256 as E\n",
    "from time import time as G\n",
    "import struct as D\n",
    "from typing import List\n",
    "class K:\n",
    "    blocks=[];HEADER_SLICE=B(4,80);BLOCK_NR_SLICE=B(4,8);PREV_HASH_SLICE=B(8,40);BODY_HASH_SLICE=B(40,72);BLOCK_CREATION_TIME_SLICE=B(72,80);BODY_SLICE=B(80,None)\n",
    "    def add_block(A,body):B=A.blocks[-1][A.HEADER_SLICE];D=E(B).digest();F=A.encode_block(C(A.blocks),D,int(G()),body);A.blocks.append(F)\n",
    "    def verify_chain(A):\n",
    "        P='=Q';O=True;F=False\n",
    "        if C(A.blocks)==0:return O\n",
    "        for B in L(1,C(A.blocks)):\n",
    "            G=E(A.blocks[B-1][A.HEADER_SLICE]).digest();H=A.blocks[B][A.PREV_HASH_SLICE]\n",
    "            if G!=H:return F\n",
    "            I=A.blocks[B][A.BODY_HASH_SLICE];J=E(A.blocks[B][A.BODY_SLICE]).digest()\n",
    "            if I!=J:return F\n",
    "            K=D.unpack('=I',A.blocks[B][A.BLOCK_NR_SLICE])[0]\n",
    "            if K!=B:return F\n",
    "            M=D.unpack(P,A.blocks[B-1][A.BLOCK_CREATION_TIME_SLICE])[0];N=D.unpack(P,A.blocks[B][A.BLOCK_CREATION_TIME_SLICE])[0]\n",
    "            if N<M:return F\n",
    "        return O\n",
    "    def import_chain(B,chain):\n",
    "        A=chain\n",
    "        if M(A,list):B.blocks=A\n",
    "        elif M(A,bytes):B.blocks=[A]\n",
    "        else:raise Exception('Invalid import data')\n",
    "    def export_chain(A):return A.blocks\n",
    "    @N\n",
    "    def encode_block(n,prev_hash,time,body):A=body;B=D.pack(f\"=2I32s32sQ{C(A)}s\",C(A),n,prev_hash,E(A.encode()).digest(),time,A.encode());return B\n",
    "    @N\n",
    "    def decode_block(block):A=block;B,E,F,G,H,I=D.unpack(f\"=2I32s32sQ{C(A)-80}s\",A);return B,E,F,G,H,I.decode()"
   ]
  }
 ],
 "metadata": {
  "kernelspec": {
   "display_name": "Python 3 (ipykernel)",
   "language": "python",
   "name": "python3"
  },
  "language_info": {
   "codemirror_mode": {
    "name": "ipython",
    "version": 3
   },
   "file_extension": ".py",
   "mimetype": "text/x-python",
   "name": "python",
   "nbconvert_exporter": "python",
   "pygments_lexer": "ipython3",
   "version": "3.10.0"
  }
 },
 "nbformat": 4,
 "nbformat_minor": 5
}
